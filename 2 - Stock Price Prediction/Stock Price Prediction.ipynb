{
 "cells": [
  {
   "attachments": {},
   "cell_type": "markdown",
   "metadata": {},
   "source": [
    "### Stock Price Prediction\n",
    "\n",
    "#https://www.geeksforgeeks.org/stock-price-prediction-using-machine-learning-in-python/"
   ]
  },
  {
   "cell_type": "code",
   "execution_count": 16,
   "metadata": {},
   "outputs": [],
   "source": [
    "#import numpy as np\n",
    "import numpy as np\n",
    "import pandas as pd\n",
    "import matplotlib.pyplot as plt\n",
    "import seaborn as sb\n",
    "\n",
    "from sklearn.model_selection import train_test_split\n",
    "from sklearn.preprocessing import StandardScaler\n",
    "from sklearn.linear_model import LogisticRegression\n",
    "from sklearn.svm import SVC\n",
    "from xgboost import XGBClassifier\n",
    "from sklearn import metrics\n",
    "\n",
    "import warnings\n",
    "warnings.filterwarnings('ignore')\n"
   ]
  },
  {
   "cell_type": "code",
   "execution_count": 18,
   "metadata": {},
   "outputs": [],
   "source": [
    "#load data on Tata Global Beverage’s past stock prices --- yahoo finance - find the company --- historical data - --- download\n",
    "url = 'https://query1.finance.yahoo.com/v7/finance/download/TSLA?period1=1644247326&period2=1675783326&interval=1d&events=history&includeAdjustedClose=true'\n",
    "dataset_train = pd.read_csv(url)\n",
    "training_set = dataset_train.iloc[:, 1:2].values"
   ]
  },
  {
   "cell_type": "code",
   "execution_count": 19,
   "metadata": {},
   "outputs": [
    {
     "data": {
      "text/html": [
       "<div>\n",
       "<style scoped>\n",
       "    .dataframe tbody tr th:only-of-type {\n",
       "        vertical-align: middle;\n",
       "    }\n",
       "\n",
       "    .dataframe tbody tr th {\n",
       "        vertical-align: top;\n",
       "    }\n",
       "\n",
       "    .dataframe thead th {\n",
       "        text-align: right;\n",
       "    }\n",
       "</style>\n",
       "<table border=\"1\" class=\"dataframe\">\n",
       "  <thead>\n",
       "    <tr style=\"text-align: right;\">\n",
       "      <th></th>\n",
       "      <th>Date</th>\n",
       "      <th>Open</th>\n",
       "      <th>High</th>\n",
       "      <th>Low</th>\n",
       "      <th>Close</th>\n",
       "      <th>Adj Close</th>\n",
       "      <th>Volume</th>\n",
       "    </tr>\n",
       "  </thead>\n",
       "  <tbody>\n",
       "    <tr>\n",
       "      <th>0</th>\n",
       "      <td>2022-02-07</td>\n",
       "      <td>307.929993</td>\n",
       "      <td>315.923340</td>\n",
       "      <td>300.903320</td>\n",
       "      <td>302.446655</td>\n",
       "      <td>302.446655</td>\n",
       "      <td>60994500</td>\n",
       "    </tr>\n",
       "    <tr>\n",
       "      <th>1</th>\n",
       "      <td>2022-02-08</td>\n",
       "      <td>301.843323</td>\n",
       "      <td>308.763336</td>\n",
       "      <td>298.266663</td>\n",
       "      <td>307.333344</td>\n",
       "      <td>307.333344</td>\n",
       "      <td>50729100</td>\n",
       "    </tr>\n",
       "    <tr>\n",
       "      <th>2</th>\n",
       "      <td>2022-02-09</td>\n",
       "      <td>311.666656</td>\n",
       "      <td>315.423340</td>\n",
       "      <td>306.666656</td>\n",
       "      <td>310.666656</td>\n",
       "      <td>310.666656</td>\n",
       "      <td>52259400</td>\n",
       "    </tr>\n",
       "    <tr>\n",
       "      <th>3</th>\n",
       "      <td>2022-02-10</td>\n",
       "      <td>302.790009</td>\n",
       "      <td>314.603333</td>\n",
       "      <td>298.899994</td>\n",
       "      <td>301.516663</td>\n",
       "      <td>301.516663</td>\n",
       "      <td>66126900</td>\n",
       "    </tr>\n",
       "    <tr>\n",
       "      <th>4</th>\n",
       "      <td>2022-02-11</td>\n",
       "      <td>303.209991</td>\n",
       "      <td>305.320007</td>\n",
       "      <td>283.566681</td>\n",
       "      <td>286.666656</td>\n",
       "      <td>286.666656</td>\n",
       "      <td>79645800</td>\n",
       "    </tr>\n",
       "  </tbody>\n",
       "</table>\n",
       "</div>"
      ],
      "text/plain": [
       "         Date        Open        High         Low       Close   Adj Close  \\\n",
       "0  2022-02-07  307.929993  315.923340  300.903320  302.446655  302.446655   \n",
       "1  2022-02-08  301.843323  308.763336  298.266663  307.333344  307.333344   \n",
       "2  2022-02-09  311.666656  315.423340  306.666656  310.666656  310.666656   \n",
       "3  2022-02-10  302.790009  314.603333  298.899994  301.516663  301.516663   \n",
       "4  2022-02-11  303.209991  305.320007  283.566681  286.666656  286.666656   \n",
       "\n",
       "     Volume  \n",
       "0  60994500  \n",
       "1  50729100  \n",
       "2  52259400  \n",
       "3  66126900  \n",
       "4  79645800  "
      ]
     },
     "execution_count": 19,
     "metadata": {},
     "output_type": "execute_result"
    }
   ],
   "source": [
    "#dataset_train.head()\n",
    "dataset_train.head()"
   ]
  },
  {
   "cell_type": "code",
   "execution_count": 20,
   "metadata": {},
   "outputs": [
    {
     "data": {
      "text/plain": [
       "(252, 7)"
      ]
     },
     "execution_count": 20,
     "metadata": {},
     "output_type": "execute_result"
    }
   ],
   "source": [
    "dataset_train.shape"
   ]
  },
  {
   "cell_type": "code",
   "execution_count": 22,
   "metadata": {},
   "outputs": [
    {
     "data": {
      "text/html": [
       "<div>\n",
       "<style scoped>\n",
       "    .dataframe tbody tr th:only-of-type {\n",
       "        vertical-align: middle;\n",
       "    }\n",
       "\n",
       "    .dataframe tbody tr th {\n",
       "        vertical-align: top;\n",
       "    }\n",
       "\n",
       "    .dataframe thead th {\n",
       "        text-align: right;\n",
       "    }\n",
       "</style>\n",
       "<table border=\"1\" class=\"dataframe\">\n",
       "  <thead>\n",
       "    <tr style=\"text-align: right;\">\n",
       "      <th></th>\n",
       "      <th>Open</th>\n",
       "      <th>High</th>\n",
       "      <th>Low</th>\n",
       "      <th>Close</th>\n",
       "      <th>Adj Close</th>\n",
       "      <th>Volume</th>\n",
       "    </tr>\n",
       "  </thead>\n",
       "  <tbody>\n",
       "    <tr>\n",
       "      <th>count</th>\n",
       "      <td>252.000000</td>\n",
       "      <td>252.000000</td>\n",
       "      <td>252.000000</td>\n",
       "      <td>252.000000</td>\n",
       "      <td>252.000000</td>\n",
       "      <td>2.520000e+02</td>\n",
       "    </tr>\n",
       "    <tr>\n",
       "      <th>mean</th>\n",
       "      <td>245.512976</td>\n",
       "      <td>251.597315</td>\n",
       "      <td>238.697943</td>\n",
       "      <td>244.913670</td>\n",
       "      <td>244.913670</td>\n",
       "      <td>9.731395e+07</td>\n",
       "    </tr>\n",
       "    <tr>\n",
       "      <th>std</th>\n",
       "      <td>62.943779</td>\n",
       "      <td>63.802307</td>\n",
       "      <td>61.806732</td>\n",
       "      <td>62.664325</td>\n",
       "      <td>62.664325</td>\n",
       "      <td>4.485044e+07</td>\n",
       "    </tr>\n",
       "    <tr>\n",
       "      <th>min</th>\n",
       "      <td>103.000000</td>\n",
       "      <td>111.750000</td>\n",
       "      <td>101.809998</td>\n",
       "      <td>108.099998</td>\n",
       "      <td>108.099998</td>\n",
       "      <td>4.186470e+07</td>\n",
       "    </tr>\n",
       "    <tr>\n",
       "      <th>25%</th>\n",
       "      <td>206.270000</td>\n",
       "      <td>212.349998</td>\n",
       "      <td>198.107498</td>\n",
       "      <td>203.012504</td>\n",
       "      <td>203.012504</td>\n",
       "      <td>6.755422e+07</td>\n",
       "    </tr>\n",
       "    <tr>\n",
       "      <th>50%</th>\n",
       "      <td>248.646667</td>\n",
       "      <td>254.903328</td>\n",
       "      <td>240.593331</td>\n",
       "      <td>245.618332</td>\n",
       "      <td>245.618332</td>\n",
       "      <td>8.465205e+07</td>\n",
       "    </tr>\n",
       "    <tr>\n",
       "      <th>75%</th>\n",
       "      <td>295.083336</td>\n",
       "      <td>300.209999</td>\n",
       "      <td>285.850007</td>\n",
       "      <td>292.120003</td>\n",
       "      <td>292.120003</td>\n",
       "      <td>1.050083e+08</td>\n",
       "    </tr>\n",
       "    <tr>\n",
       "      <th>max</th>\n",
       "      <td>378.766663</td>\n",
       "      <td>384.290009</td>\n",
       "      <td>362.433319</td>\n",
       "      <td>381.816681</td>\n",
       "      <td>381.816681</td>\n",
       "      <td>3.056321e+08</td>\n",
       "    </tr>\n",
       "  </tbody>\n",
       "</table>\n",
       "</div>"
      ],
      "text/plain": [
       "             Open        High         Low       Close   Adj Close  \\\n",
       "count  252.000000  252.000000  252.000000  252.000000  252.000000   \n",
       "mean   245.512976  251.597315  238.697943  244.913670  244.913670   \n",
       "std     62.943779   63.802307   61.806732   62.664325   62.664325   \n",
       "min    103.000000  111.750000  101.809998  108.099998  108.099998   \n",
       "25%    206.270000  212.349998  198.107498  203.012504  203.012504   \n",
       "50%    248.646667  254.903328  240.593331  245.618332  245.618332   \n",
       "75%    295.083336  300.209999  285.850007  292.120003  292.120003   \n",
       "max    378.766663  384.290009  362.433319  381.816681  381.816681   \n",
       "\n",
       "             Volume  \n",
       "count  2.520000e+02  \n",
       "mean   9.731395e+07  \n",
       "std    4.485044e+07  \n",
       "min    4.186470e+07  \n",
       "25%    6.755422e+07  \n",
       "50%    8.465205e+07  \n",
       "75%    1.050083e+08  \n",
       "max    3.056321e+08  "
      ]
     },
     "execution_count": 22,
     "metadata": {},
     "output_type": "execute_result"
    }
   ],
   "source": [
    "dataset_train.describe()"
   ]
  },
  {
   "cell_type": "code",
   "execution_count": 23,
   "metadata": {},
   "outputs": [
    {
     "name": "stdout",
     "output_type": "stream",
     "text": [
      "<class 'pandas.core.frame.DataFrame'>\n",
      "RangeIndex: 252 entries, 0 to 251\n",
      "Data columns (total 7 columns):\n",
      " #   Column     Non-Null Count  Dtype  \n",
      "---  ------     --------------  -----  \n",
      " 0   Date       252 non-null    object \n",
      " 1   Open       252 non-null    float64\n",
      " 2   High       252 non-null    float64\n",
      " 3   Low        252 non-null    float64\n",
      " 4   Close      252 non-null    float64\n",
      " 5   Adj Close  252 non-null    float64\n",
      " 6   Volume     252 non-null    int64  \n",
      "dtypes: float64(5), int64(1), object(1)\n",
      "memory usage: 13.9+ KB\n"
     ]
    }
   ],
   "source": [
    "dataset_train.info()"
   ]
  },
  {
   "cell_type": "code",
   "execution_count": 25,
   "metadata": {},
   "outputs": [
    {
     "data": {
      "image/png": "[encoded data removed]",
      "text/plain": [
       "<Figure size 1080x360 with 1 Axes>"
      ]
     },
     "metadata": {
      "needs_background": "light"
     },
     "output_type": "display_data"
    }
   ],
   "source": [
    "#Exploratory Data Analysis\n",
    "plt.figure(figsize=(15,5))\n",
    "plt.plot(dataset_train['Close'])\n",
    "plt.title('Tesla Close price.', fontsize=15)\n",
    "plt.ylabel('Price in dollars.')\n",
    "plt.show()\n"
   ]
  }
 ],
 "metadata": {
  "kernelspec": {
   "display_name": "Python 3",
   "language": "python",
   "name": "python3"
  },
  "language_info": {
   "codemirror_mode": {
    "name": "ipython",
    "version": 3
   },
   "file_extension": ".py",
   "mimetype": "text/x-python",
   "name": "python",
   "nbconvert_exporter": "python",
   "pygments_lexer": "ipython3",
   "version": "3.10.6"
  },
  "orig_nbformat": 4,
  "vscode": {
   "interpreter": {
    "hash": "916dbcbb3f70747c44a77c7bcd40155683ae19c65e1c03b4aa3499c5328201f1"
   }
  }
 },
 "nbformat": 4,
 "nbformat_minor": 2
}
